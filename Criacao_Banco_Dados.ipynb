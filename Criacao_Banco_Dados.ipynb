{
 "cells": [
  {
   "cell_type": "code",
   "execution_count": 1,
   "metadata": {},
   "outputs": [],
   "source": [
    "# Lib para Banco de dados\n",
    "import sqlite3"
   ]
  },
  {
   "cell_type": "code",
   "execution_count": 2,
   "metadata": {},
   "outputs": [],
   "source": [
    "# Criar o banco [ Caso o banco já exista, vai apenas fazer a conexão ]\n",
    "Conexao_Banco = sqlite3.connect('Banco_Dados_API.db')"
   ]
  },
  {
   "cell_type": "code",
   "execution_count": 3,
   "metadata": {},
   "outputs": [],
   "source": [
    "# Apontar para o banco\n",
    "Cursor = Conexao_Banco.cursor()"
   ]
  },
  {
   "cell_type": "code",
   "execution_count": 5,
   "metadata": {},
   "outputs": [
    {
     "data": {
      "text/plain": [
       "<sqlite3.Cursor at 0x2f4015291f0>"
      ]
     },
     "execution_count": 5,
     "metadata": {},
     "output_type": "execute_result"
    }
   ],
   "source": [
    "# Query --> Criar a tabela para armazenar as informações no DB\n",
    "\n",
    "query_criar_banco = '''\n",
    "    CREATE TABLE LOG_API (\n",
    "        id INTEGER NOT NULL PRIMARY KEY AUTOINCREMENT,\n",
    "        inputs TEXT,\n",
    "        inicio TEXT,\n",
    "        fim TEXT,\n",
    "        processamento TEXTO\n",
    "    )\n",
    "'''\n",
    "\n",
    "# Executando a Query\n",
    "Cursor.execute( query_criar_banco )"
   ]
  },
  {
   "cell_type": "code",
   "execution_count": 10,
   "metadata": {},
   "outputs": [],
   "source": [
    "# Query --> Inserindo os valores\n",
    "\n",
    "query_inserir = '''\n",
    "    INSERT INTO LOG_API (inputs, inicio, fim, processamento)\n",
    "    VALUES ( '480;4;5;3;0;1;0;0;742', '02/04/2023 14:10:01', '02/04/2023 14:10:03', '00:02' )\n",
    "'''\n",
    "\n",
    "# Executando a Query\n",
    "Cursor.execute( query_inserir )\n",
    "\n",
    "# Commit\n",
    "Conexao_Banco.commit()"
   ]
  },
  {
   "cell_type": "code",
   "execution_count": 13,
   "metadata": {},
   "outputs": [
    {
     "data": {
      "text/plain": [
       "[(1,\n",
       "  '25;1;1;0;0;0;0;0;84',\n",
       "  '02/04/2023 14:08:01',\n",
       "  '02/04/2023 14:08:02',\n",
       "  '00:01'),\n",
       " (2,\n",
       "  '480;4;5;3;0;1;0;0;742',\n",
       "  '02/04/2023 14:10:01',\n",
       "  '02/04/2023 14:10:03',\n",
       "  '00:02'),\n",
       " (3,\n",
       "  '[226.0, 3.0, 4.0, 3.0, 6.0, 1.0, 0.0, 2200.0, 1209.0, 7889.42]',\n",
       "  '2023-04-02 14:37:42.716034',\n",
       "  '2023-04-02 14:37:42.743244',\n",
       "  '0:00:00.027210'),\n",
       " (4,\n",
       "  '[100.0, 2.0, 4.0, 2.0, 12.0, 0.0, 1.0, 885.0, 330.0, 5005.65]',\n",
       "  '2023-04-02 14:39:43.739241',\n",
       "  '2023-04-02 14:39:43.771093',\n",
       "  '0:00:00.031852')]"
      ]
     },
     "execution_count": 13,
     "metadata": {},
     "output_type": "execute_result"
    }
   ],
   "source": [
    "# Query --> Consulta\n",
    "\n",
    "query_consulta = '''\n",
    "    SELECT * FROM LOG_API\n",
    "'''\n",
    "\n",
    "# Executando a Query - O execute() retorna um objeto, para visualizar os valores, precisa utilizar o fetchall()\n",
    "Cursor.execute( query_consulta ).fetchall()"
   ]
  },
  {
   "cell_type": "code",
   "execution_count": null,
   "metadata": {},
   "outputs": [],
   "source": []
  }
 ],
 "metadata": {
  "kernelspec": {
   "display_name": "base",
   "language": "python",
   "name": "python3"
  },
  "language_info": {
   "codemirror_mode": {
    "name": "ipython",
    "version": 3
   },
   "file_extension": ".py",
   "mimetype": "text/x-python",
   "name": "python",
   "nbconvert_exporter": "python",
   "pygments_lexer": "ipython3",
   "version": "3.9.7"
  },
  "orig_nbformat": 4
 },
 "nbformat": 4,
 "nbformat_minor": 2
}
